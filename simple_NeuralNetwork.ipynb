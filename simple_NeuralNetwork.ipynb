{
  "nbformat": 4,
  "nbformat_minor": 0,
  "metadata": {
    "colab": {
      "provenance": [],
      "gpuType": "T4",
      "authorship_tag": "ABX9TyOtuiKjK+ceCOiqmtubeMme",
      "include_colab_link": true
    },
    "kernelspec": {
      "name": "python3",
      "display_name": "Python 3"
    },
    "language_info": {
      "name": "python"
    },
    "accelerator": "GPU"
  },
  "cells": [
    {
      "cell_type": "markdown",
      "metadata": {
        "id": "view-in-github",
        "colab_type": "text"
      },
      "source": [
        "<a href=\"https://colab.research.google.com/github/SimonovBlonsky/DL_Learn/blob/main/simple_NeuralNetwork.ipynb\" target=\"_parent\"><img src=\"https://colab.research.google.com/assets/colab-badge.svg\" alt=\"Open In Colab\"/></a>"
      ]
    },
    {
      "cell_type": "code",
      "execution_count": 23,
      "metadata": {
        "id": "gf_wUxRjGC0b"
      },
      "outputs": [],
      "source": [
        "import torch\n",
        "import torch.nn as nn\n",
        "import torch.nn.functional as F\n",
        "import matplotlib.pyplot as plt\n",
        "import pandas as pd"
      ]
    },
    {
      "cell_type": "markdown",
      "source": [
        "创建一个模型类，继承nn.Module"
      ],
      "metadata": {
        "id": "TFu1AFMfHSYh"
      }
    },
    {
      "cell_type": "code",
      "source": [
        "class Model(nn.Module):\n",
        "  # 输入层(4个特征) --> 隐藏层H1,H2 --> 输出层(3个类)\n",
        "  def __init__(self, in_features=4, h1=5, h2=8, h3=10, out_features=3):\n",
        "    super().__init__() # 实例化nn.Module\n",
        "    self.fc1 = nn.Linear(in_features, h1) # fc表示fully connected, 全连接层\n",
        "    self.fc2 = nn.Linear(h1, h2)\n",
        "    self.fc3 = nn.Linear(h2, h3)\n",
        "    self.out = nn.Linear(h3, out_features)\n",
        "  # 前向传播\n",
        "  def forward(self, x):\n",
        "    x = F.relu(self.fc1(x))\n",
        "    x = F.relu(self.fc2(x))\n",
        "    x = F.relu(self.fc3(x))\n",
        "    x = self.out(x)\n",
        "\n",
        "    return x"
      ],
      "metadata": {
        "id": "B0zFS8O9Hc52"
      },
      "execution_count": 48,
      "outputs": []
    },
    {
      "cell_type": "code",
      "source": [
        "# 手动选择随机种子\n",
        "torch.manual_seed(1)\n",
        "model = Model()"
      ],
      "metadata": {
        "id": "Vs525O0KJdpk"
      },
      "execution_count": 26,
      "outputs": []
    },
    {
      "cell_type": "code",
      "source": [
        "url = 'https://gist.githubusercontent.com/netj/8836201/raw/6f9306ad21398ea43cba4f7d537619d0e07d5ae3/iris.csv'\n",
        "my_df = pd.read_csv(url)"
      ],
      "metadata": {
        "id": "m_RCgZcBQISS"
      },
      "execution_count": 27,
      "outputs": []
    },
    {
      "cell_type": "code",
      "source": [
        "# 将数据集的variety改成整型\n",
        "my_df['variety'] = my_df['variety'].replace(\"Setosa\", 0.0)\n",
        "my_df['variety'] = my_df['variety'].replace(\"Versicolor\", 1.0)\n",
        "my_df['variety'] = my_df['variety'].replace(\"Virginica\", 2.0)"
      ],
      "metadata": {
        "id": "bejwtJD8RiEr"
      },
      "execution_count": 28,
      "outputs": []
    },
    {
      "cell_type": "code",
      "source": [
        "# 训练和测试集分割\n",
        "X = my_df.drop('variety',axis=1) #由于要输入特征，需要把y值（标签）去除掉，axis=1是因为去掉一整列\n",
        "Y = my_df['variety']"
      ],
      "metadata": {
        "id": "HQejx63sTwwt"
      },
      "execution_count": 29,
      "outputs": []
    },
    {
      "cell_type": "code",
      "source": [
        "# 转换为numpy arrays\n",
        "X = X.values\n",
        "Y = Y.values"
      ],
      "metadata": {
        "id": "5bUjV-2nVIk4"
      },
      "execution_count": 30,
      "outputs": []
    },
    {
      "cell_type": "code",
      "source": [
        "from sklearn.model_selection import train_test_split"
      ],
      "metadata": {
        "id": "AyD2rK6HWCkS"
      },
      "execution_count": 31,
      "outputs": []
    },
    {
      "cell_type": "code",
      "source": [
        "X_train, X_test, Y_train, Y_test = train_test_split(X, Y, test_size=0.2, random_state=42)"
      ],
      "metadata": {
        "id": "PyfeYE_OWKQO"
      },
      "execution_count": 65,
      "outputs": []
    },
    {
      "cell_type": "code",
      "source": [
        "# 将X的特征转换未float tensor\n",
        "X_train = torch.FloatTensor(X_train)\n",
        "X_test = torch.FloatTensor(X_test)\n",
        "Y_train = torch.LongTensor(Y_train)\n",
        "Y_test = torch.LongTensor(Y_test)"
      ],
      "metadata": {
        "id": "vdsEGQwhWfVf"
      },
      "execution_count": 66,
      "outputs": []
    },
    {
      "cell_type": "code",
      "source": [
        "# 设置损失函数\n",
        "criterion = nn.CrossEntropyLoss()\n",
        "# 选择Adam优化器，设置学习率\n",
        "optimizer = torch.optim.Adam(model.parameters(),lr=0.012)"
      ],
      "metadata": {
        "id": "7hRZ8rzTXTB4"
      },
      "execution_count": 67,
      "outputs": []
    },
    {
      "cell_type": "code",
      "source": [
        "# 训练模型\n",
        "epochs = 200\n",
        "losses = []\n",
        "for i in range(epochs):\n",
        "  # 前向传播\n",
        "  Y_pred = model.forward(X_train) # 预测值\n",
        "  # 计算loss\n",
        "  loss = criterion(Y_pred, Y_train)\n",
        "  # 记录loss\n",
        "  losses.append(loss.detach().numpy())\n",
        "  # 输出10epoch当中\n",
        "  if i % 10 == 0:\n",
        "    print(f'Epoch:{i} and loss {loss}')\n",
        "  # 反向传播\n",
        "  optimizer.zero_grad()\n",
        "  loss.backward()\n",
        "  optimizer.step()"
      ],
      "metadata": {
        "colab": {
          "base_uri": "https://localhost:8080/"
        },
        "id": "rmu5B63tY1HS",
        "outputId": "61fbe972-2e9e-4f86-c9a3-4a69c88ab17a"
      },
      "execution_count": 68,
      "outputs": [
        {
          "output_type": "stream",
          "name": "stdout",
          "text": [
            "Epoch:0 and loss 0.19010886549949646\n",
            "Epoch:10 and loss 0.16291721165180206\n",
            "Epoch:20 and loss 0.0797017440199852\n",
            "Epoch:30 and loss 0.07265189290046692\n",
            "Epoch:40 and loss 0.06836216896772385\n",
            "Epoch:50 and loss 0.06351201236248016\n",
            "Epoch:60 and loss 0.05892978981137276\n",
            "Epoch:70 and loss 0.05552816390991211\n",
            "Epoch:80 and loss 0.052974630147218704\n",
            "Epoch:90 and loss 0.050936903804540634\n",
            "Epoch:100 and loss 0.049441736191511154\n",
            "Epoch:110 and loss 0.048408105969429016\n",
            "Epoch:120 and loss 0.047731172293424606\n",
            "Epoch:130 and loss 0.04732056334614754\n",
            "Epoch:140 and loss 0.047088105231523514\n",
            "Epoch:150 and loss 0.046964701265096664\n",
            "Epoch:160 and loss 0.046900611370801926\n",
            "Epoch:170 and loss 0.04686587676405907\n",
            "Epoch:180 and loss 0.04684404283761978\n",
            "Epoch:190 and loss 0.046827372163534164\n"
          ]
        }
      ]
    },
    {
      "cell_type": "code",
      "source": [
        "# 画图\n",
        "plt.plot(range(epochs),losses)\n",
        "plt.ylabel('loss/error')\n",
        "plt.xlabel('Epoch')"
      ],
      "metadata": {
        "colab": {
          "base_uri": "https://localhost:8080/",
          "height": 466
        },
        "collapsed": true,
        "id": "VaOJjTakac2k",
        "outputId": "34d209e2-2e24-4f40-c84e-07129fdcdd09"
      },
      "execution_count": 69,
      "outputs": [
        {
          "output_type": "execute_result",
          "data": {
            "text/plain": [
              "Text(0.5, 0, 'Epoch')"
            ]
          },
          "metadata": {},
          "execution_count": 69
        },
        {
          "output_type": "display_data",
          "data": {
            "text/plain": [
              "<Figure size 640x480 with 1 Axes>"
            ],
            "image/png": "[encoded data removed]"
          },
          "metadata": {}
        }
      ]
    },
    {
      "cell_type": "code",
      "source": [
        "# 验证\n",
        "with torch.no_grad(): # 关闭反向传播\n",
        "  Y_eval = model.forward(X_test) # 根据测试集进行预测\n",
        "  loss = criterion(Y_eval, Y_test) # Find the loss or error"
      ],
      "metadata": {
        "id": "TOVkyNNmcu4E"
      },
      "execution_count": 70,
      "outputs": []
    },
    {
      "cell_type": "code",
      "source": [
        "correct = 0\n",
        "with torch.no_grad():\n",
        "  for i, data in enumerate(X_test):\n",
        "    # 逐个预测\n",
        "    y_val = model.forward(data)\n",
        "    print(f'{i+1}.) {str(y_val)} \\t {Y_test[i]}')\n",
        "    # 数一下有几个对了\n",
        "    if y_val.argmax().item() == Y_test[i]:\n",
        "      correct +=1\n",
        "print(f'we get {correct}/{Y_test.size()} correct!')\n",
        "print(loss)"
      ],
      "metadata": {
        "colab": {
          "base_uri": "https://localhost:8080/"
        },
        "id": "JLfvgQ8Jd5AU",
        "outputId": "c2129135-0f0a-4522-baaa-4b71cdc0de5e"
      },
      "execution_count": 71,
      "outputs": [
        {
          "output_type": "stream",
          "name": "stdout",
          "text": [
            "1.) tensor([-20.3274,   6.6405,  -1.7854]) \t 1\n",
            "2.) tensor([ 16.7016,  -7.1299, -14.8061]) \t 0\n",
            "3.) tensor([-85.6979,   5.2571,  22.6417]) \t 2\n",
            "4.) tensor([-2.3777e+01,  6.0313e+00, -1.9656e-02]) \t 1\n",
            "5.) tensor([-25.9372,   6.4582,   0.1634]) \t 1\n",
            "6.) tensor([ 16.4405,  -7.0401, -14.4468]) \t 0\n",
            "7.) tensor([-12.7283,   7.2029,  -4.2508]) \t 1\n",
            "8.) tensor([-51.4956,   4.0981,  11.5367]) \t 2\n",
            "9.) tensor([-32.7134,   5.3037,   3.7937]) \t 1\n",
            "10.) tensor([-14.2031,   7.2441,  -3.9692]) \t 1\n",
            "11.) tensor([-42.4477,   4.5272,   7.9160]) \t 2\n",
            "12.) tensor([ 16.1393,  -6.9366, -14.0324]) \t 0\n",
            "13.) tensor([ 16.5309,  -7.0712, -14.5712]) \t 0\n",
            "14.) tensor([ 16.2217,  -6.9649, -14.1458]) \t 0\n",
            "15.) tensor([ 16.2853,  -6.9868, -14.2333]) \t 0\n",
            "16.) tensor([-24.0079,   6.2185,  -0.1759]) \t 1\n",
            "17.) tensor([-61.7699,   4.3172,  15.1785]) \t 2\n",
            "18.) tensor([-14.0935,   7.1457,  -3.9057]) \t 1\n",
            "19.) tensor([-20.3095,   6.2735,  -1.3823]) \t 1\n",
            "20.) tensor([-61.3413,   4.2741,  15.1041]) \t 2\n",
            "21.) tensor([ 16.0825,  -6.9171, -13.9542]) \t 0\n",
            "22.) tensor([-36.9655,   4.8147,   5.7745]) \t 2\n",
            "23.) tensor([ 16.2073,  -6.9600, -14.1260]) \t 0\n",
            "24.) tensor([-58.6995,   4.2217,  14.1626]) \t 2\n",
            "25.) tensor([-53.1853,   4.7230,  11.1738]) \t 2\n",
            "26.) tensor([-54.7980,   4.1400,  12.7770]) \t 2\n",
            "27.) tensor([-57.1559,   4.2880,  13.3885]) \t 2\n",
            "28.) tensor([-63.0871,   4.4005,  15.5198]) \t 2\n",
            "29.) tensor([ 16.0743,  -6.9142, -13.9429]) \t 0\n",
            "30.) tensor([ 16.1452,  -6.9386, -14.0405]) \t 0\n",
            "we get 30/torch.Size([30]) correct!\n",
            "tensor(0.0189)\n"
          ]
        }
      ]
    }
  ]
}